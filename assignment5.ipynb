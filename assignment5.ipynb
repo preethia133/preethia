{
  "nbformat": 4,
  "nbformat_minor": 0,
  "metadata": {
    "colab": {
      "provenance": [],
      "collapsed_sections": []
    },
    "kernelspec": {
      "name": "python3",
      "display_name": "Python 3"
    },
    "language_info": {
      "name": "python"
    }
  },
  "cells": [
    {
      "cell_type": "code",
      "execution_count": null,
      "metadata": {
        "colab": {
          "base_uri": "https://localhost:8080/"
        },
        "id": "GL3aFY_1-FcF",
        "outputId": "81793d92-17b3-4b8f-eb23-8ea0a3b3095c"
      },
      "outputs": [
        {
          "output_type": "stream",
          "name": "stdout",
          "text": [
            "enter first number:2\n",
            "enter second number:3\n",
            "enter third number:5\n",
            "square of numbers are: (4, 9, 25)\n",
            "sum of squares are: 38\n"
          ]
        }
      ],
      "source": [
        "class point:\n",
        "    def __init__(self,x,y,z):\n",
        "        self.x = x\n",
        "        self.y = y\n",
        "        self.z = z\n",
        "    def sqsum(self):\n",
        "        return (((self.x)**2),((self.y)**2),((self.z)**2))\n",
        "    def summ(self):\n",
        "        return (((self.x)**2)+((self.y)**2)+((self.z)**2))\n",
        "x = int(input(\"enter first number:\"))\n",
        "y = int(input(\"enter second number:\"))\n",
        "z = int(input(\"enter third number:\"))\n",
        "\n",
        "a = point(x,y,z)\n",
        "\n",
        "print(\"square of numbers are:\",a.sqsum())\n",
        "print(\"sum of squares are:\",a.summ())"
      ]
    },
    {
      "cell_type": "code",
      "source": [
        "class calculator:\n",
        "    def __init__(self,x,y):\n",
        "        self.x = x\n",
        "        self.y = y\n",
        "\n",
        "    def add(self):\n",
        "        return self.x+self.y\n",
        "    def sub(self):\n",
        "        return self.x-self.y\n",
        "    def mult(self):\n",
        "        return self.x*self.y\n",
        "    def divide(self):\n",
        "        return self.x/self.y\n",
        "\n",
        "obj = calculator(94,10)\n",
        "print(obj.add())\n",
        "print(obj.sub())\n",
        "print(obj.mult())\n",
        "print(obj.divide())"
      ],
      "metadata": {
        "id": "XTzeusGy-L9w",
        "colab": {
          "base_uri": "https://localhost:8080/"
        },
        "outputId": "3cbe393b-5bfc-4541-8313-d9870c2a1b87"
      },
      "execution_count": null,
      "outputs": [
        {
          "output_type": "stream",
          "name": "stdout",
          "text": [
            "104\n",
            "84\n",
            "940\n",
            "9.4\n"
          ]
        }
      ]
    },
    {
      "cell_type": "code",
      "source": [
        "class Student:\n",
        "  def setName(self):\n",
        "    print(\"the Name of student is \",self.name)\n",
        "  def getName(self):\n",
        "    self.name=input(\"Enter the name of student : \")\n",
        "  def setRollNumber(self):\n",
        "    print(\"The roll number of student is \", self.roll)\n",
        "  def getRollNumber(self):\n",
        "    self.roll=input(\"Enter the roll Number of student  :  \")\n",
        "\n",
        "obj=Student()\n",
        "obj.getName()\n",
        "obj.setName()\n",
        "obj.getRollNumber()\n",
        "obj.setRollNumber()"
      ],
      "metadata": {
        "id": "t49nzF1Y-MIN",
        "colab": {
          "base_uri": "https://localhost:8080/"
        },
        "outputId": "f6c904ae-7091-40f1-fb3d-8316681c9b4e"
      },
      "execution_count": null,
      "outputs": [
        {
          "output_type": "stream",
          "name": "stdout",
          "text": [
            "Enter the name of student : preethi\n",
            "the Name of student is  preethi\n",
            "Enter the roll Number of student  :  13\n",
            "The roll number of student is  13\n"
          ]
        }
      ]
    },
    {
      "cell_type": "code",
      "source": [
        "class account:\n",
        "    def __init__(self,title=None,balance=0):\n",
        "        self.title=title\n",
        "        self.balance=balance\n",
        "\n",
        "class savingaccount(account):\n",
        "    def __init__(self,title=None,balance=0,intrestrate=0):\n",
        "        super().__init__(title,balance)\n",
        "        self.intrestrate=intrestrate\n",
        "\n",
        "    def __str__(self):\n",
        "        return str(self.title)+\" \"+str(self.balance)+\" \"+str(self.intrestrate)\n",
        "\n",
        "a=savingaccount(\"ashish\",5000,5)\n",
        "print(a)"
      ],
      "metadata": {
        "id": "0Hw5X8rj-MSi",
        "outputId": "68a2c2f1-64b8-464a-aef6-cd830ed04092",
        "colab": {
          "base_uri": "https://localhost:8080/"
        }
      },
      "execution_count": null,
      "outputs": [
        {
          "output_type": "stream",
          "name": "stdout",
          "text": [
            "ashish 5000 5\n"
          ]
        }
      ]
    },
    {
      "cell_type": "code",
      "source": [
        "class Account:\n",
        "  def __init__(self, title=None, balance=0):\n",
        "    self.title = title\n",
        "    self.balance = balance\n",
        "    \n",
        "  def withdrawal(self, amount):\n",
        "    self.amount=self.balance-amount\n",
        "\n",
        "  def deposit(self, amount):\n",
        "    self.amount=self.balance+amount\n",
        "\n",
        "  def getBalance(self):\n",
        "    return self.amount\n",
        "\n",
        "class SavingsAccount(Account):\n",
        "    def __init__(self, title=None, balance=0, interestRate=0):\n",
        "      super().__init__(title, balance)\n",
        "      self.interestRate = interestRate\n",
        "    \n",
        "    def interestAmount(self):\n",
        "       self.interestRate=self.interestRate*self.balance/100\n",
        "       self.amount=self.interestRate+self.amount\n",
        "       return self.interestRate\n",
        "\n",
        "obj=SavingsAccount(\"Ashish\", 2000, 5)\n",
        "obj.balance = 2000\n",
        "obj.deposit(500)\n",
        "print(\"The Available Balance  : \",obj.getBalance())\n",
        "print(\"The Interest : \",obj.interestAmount())\n",
        "print(\"Balance with interest : \",obj.getBalance())"
      ],
      "metadata": {
        "id": "ui4dveV2-Mha",
        "colab": {
          "base_uri": "https://localhost:8080/"
        },
        "outputId": "067f2ff5-5834-4e1a-d50e-886c892d2c08"
      },
      "execution_count": 6,
      "outputs": [
        {
          "output_type": "stream",
          "name": "stdout",
          "text": [
            "The Available Balance  :  2500\n",
            "The Interest :  100.0\n",
            "Balance with interest :  2600.0\n"
          ]
        }
      ]
    }
  ]
}